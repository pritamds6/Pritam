{
  "nbformat": 4,
  "nbformat_minor": 0,
  "metadata": {
    "colab": {
      "provenance": [],
      "gpuType": "T4",
      "authorship_tag": "ABX9TyOeVMZmtSA07keJ0+C+WkiW",
      "include_colab_link": true
    },
    "kernelspec": {
      "name": "python3",
      "display_name": "Python 3"
    },
    "language_info": {
      "name": "python"
    },
    "accelerator": "GPU"
  },
  "cells": [
    {
      "cell_type": "markdown",
      "metadata": {
        "id": "view-in-github",
        "colab_type": "text"
      },
      "source": [
        "<a href=\"https://colab.research.google.com/github/pritamds6/Pritam/blob/master/Scratch_LLM.ipynb\" target=\"_parent\"><img src=\"https://colab.research.google.com/assets/colab-badge.svg\" alt=\"Open In Colab\"/></a>"
      ]
    },
    {
      "cell_type": "code",
      "execution_count": null,
      "metadata": {
        "id": "4S3RdwMfNzcy"
      },
      "outputs": [],
      "source": [
        "%load_ext autoreload\n",
        "%autoreload 2"
      ]
    },
    {
      "cell_type": "code",
      "source": [
        "from typing import Tuple\n",
        "\n",
        "import torch\n",
        "import torch.nn.functional as F\n",
        "from torch import Tensor\n",
        "from torch.nn import Linear, Module, Parameter, Sequential\n",
        "\n",
        "EPS = torch.finfo(torch.float32).eps\n",
        "\n",
        "\n",
        "class CosinePositionalEncoding(Module):\n",
        "    def __init__(self, seq_len: int, dim_emb: int, base: int = 10_000, eps: float = EPS) -> None:\n",
        "        super().__init__()\n",
        "\n",
        "        indices = torch.arange(0, seq_len, dtype=torch.float)\n",
        "        scale = 1 / (base ** (torch.arange(0, dim_emb, 2, dtype=torch.float) / dim_emb) + eps)\n",
        "\n",
        "        position = torch.zeros(1, 1, seq_len, dim_emb)\n",
        "        position[:, :, :, 0::2] = torch.sin(indices[None, None, :, None] * scale)\n",
        "        position[:, :, :, 1::2] = torch.cos(indices[None, None, :, None] * scale)\n",
        "\n",
        "        self.register_buffer(\"position\", position)\n",
        "\n",
        "    def forward(self, x: Tensor) -> Tensor:\n",
        "        return x + self.position  # (bs, num_heads, seq_len, dim_emb)\n",
        "\n",
        "\n",
        "class RotaryPositionalEncoding(Module):\n",
        "    def __init__(self, seq_len: int, dim_emb: int, base: int = 10000, eps: float = EPS) -> None:\n",
        "        super().__init__()\n",
        "\n",
        "        self.dim_emb = dim_emb\n",
        "        indices = torch.arange(0, seq_len, dtype=torch.float)\n",
        "        scale = 1 / (base ** (torch.arange(0, dim_emb, 2, dtype=torch.float) / dim_emb) + eps)\n",
        "\n",
        "        position = torch.outer(indices, scale)\n",
        "        position = torch.cat((position, position), dim=-1)\n",
        "\n",
        "        position_cos = torch.cos(position[None, None, :, :])  # (bs, num_heads, seq_len, dim_emb)\n",
        "        position_sin = torch.sin(position[None, None, :, :])  # (bs, num_heads, seq_len, dim_emb)\n",
        "\n",
        "        self.register_buffer(\"position_cos\", position_cos)\n",
        "        self.register_buffer(\"position_sin\", position_sin)\n",
        "\n",
        "    def _rotate_half(self, x: Tensor) -> Tensor:\n",
        "        x1, x2 = x[..., : self.dim_emb // 2], x[..., self.dim_emb // 2 :]\n",
        "        return torch.cat((-x2, x1), dim=-1)\n",
        "\n",
        "    def forward(self, x: Tensor) -> Tensor:\n",
        "        # x is of shape  (bs, num_heads, seq_len, dim_emb)\n",
        "        return (x * self.position_cos) + (self._rotate_half(x) * self.position_sin)\n",
        "\n",
        "\n",
        "class RMSNorm(Module):\n",
        "    # RMSnorm(x_i) = (x_i / RMS(x)) * g_i where RMS(x) = sqrt(1 / n *  sum a_i ** 2)\n",
        "    def __init__(self, dim_last: int, eps: float = EPS):\n",
        "        super().__init__()\n",
        "\n",
        "        self.eps = eps\n",
        "        self.gain = Parameter(torch.ones(dim_last), requires_grad=True)\n",
        "\n",
        "    def forward(self, x: Tensor) -> Tensor:\n",
        "        scale = torch.rsqrt(torch.mean(x * x, dim=-1, keepdim=True) + self.eps)\n",
        "        return x * scale * self.gain\n",
        "\n",
        "\n",
        "class SwiGLU(Module):\n",
        "    # SwiGLU(x) = (xW + b) ⊗ swish(xZ + c) where W, Z, b, c are learnable params\n",
        "    def __init__(self, dim_in: int, bias: bool = True) -> None:\n",
        "        super().__init__()\n",
        "\n",
        "        self.dim_in = dim_in\n",
        "        self.linear = Linear(dim_in, 2 * dim_in, bias=bias)\n",
        "\n",
        "    def forward(self, x: Tensor) -> Tensor:\n",
        "        # uses only one weight matrix instead of two\n",
        "        out = self.linear(x)\n",
        "        return F.silu(out[..., : self.dim_in]) + out[..., self.dim_in :]\n",
        "\n",
        "\n",
        "class SelfAttention(Module):\n",
        "    def __init__(self, seq_len: int, dim_emb: int, dim_k: int = None, dim_v: int = None, causal=True) -> None:\n",
        "        super().__init__()\n",
        "\n",
        "        self.dim_k = dim_k or dim_emb\n",
        "        self.dim_v = dim_v or dim_emb\n",
        "        self.causal = causal\n",
        "\n",
        "        # Query, Key and Value projections\n",
        "        self.proj_q = Linear(dim_emb, self.dim_k, bias=False)\n",
        "        self.proj_k = Linear(dim_emb, self.dim_k, bias=False)\n",
        "        self.proj_v = Linear(dim_emb, self.dim_v, bias=False)\n",
        "        self.proj_out = Linear(self.dim_v, self.dim_v, bias=False)\n",
        "\n",
        "        # Build the causal mask, masking upper triangular part of attention scores\n",
        "        self.register_buffer(\"causal_mask\", torch.triu(torch.ones(seq_len, seq_len), diagonal=1).bool())\n",
        "\n",
        "    def forward(self, x: Tensor, return_scores: bool = False) -> Tensor | Tuple[Tensor, Tensor]:\n",
        "        # projects input to Q, K, V spaces\n",
        "        q = self.proj_q(x)  # (bs, seq_len, dim_k)\n",
        "        k = self.proj_k(x)  # (bs, seq_len, dim_k)\n",
        "        v = self.proj_v(x)  # (bs, seq_len, dim_v)\n",
        "\n",
        "        # Compute the correlation between a query q_i and all the keys, for every q_i\n",
        "        attn_scores = q @ torch.transpose(k, 2, 1)  # (bs, seq_len, seq_len)\n",
        "\n",
        "        # Fill the upper triangular part of the attention scores with -inf to inhibit them in the softmax\n",
        "        if self.causal:\n",
        "            attn_scores.masked_fill_(self.causal_mask[None, ...], -torch.inf)\n",
        "\n",
        "        attn_scores = torch.softmax(attn_scores * self.dim_k**-0.5, dim=-1)  # (bs, seq_len, seq_len)\n",
        "        out = self.proj_out(attn_scores @ v)  # (bs, seq_len, dim_v)\n",
        "\n",
        "        if return_scores:\n",
        "            return out, attn_scores\n",
        "        else:\n",
        "            return out\n",
        "\n",
        "\n",
        "class MultiHeadAttention(Module):\n",
        "    def __init__(\n",
        "        self, seq_len: int, num_heads: int, dim_emb: int, dim_k: int = None, dim_v: int = None, causal=True\n",
        "    ) -> None:\n",
        "        super().__init__()\n",
        "\n",
        "        assert dim_emb % num_heads == 0, \"num_heads must be a multiple of dim_emb\"\n",
        "\n",
        "        self.seq_len = seq_len\n",
        "        self.num_heads = num_heads\n",
        "        self.dim_head = dim_emb // num_heads\n",
        "        self.dim_k = dim_k or dim_emb\n",
        "        self.dim_v = dim_v or dim_emb\n",
        "        self.causal = causal\n",
        "\n",
        "        # positional encoding to be applied to query and key projections\n",
        "        # self.positional_encoding = CosinePositionalEncoding(seq_len, dim_emb // num_heads)\n",
        "        self.positional_encoding = RotaryPositionalEncoding(seq_len, dim_emb // num_heads)\n",
        "\n",
        "        # Query, Key and Value projections\n",
        "        self.proj_q = Linear(dim_emb, self.dim_k, bias=False)\n",
        "        self.proj_k = Linear(dim_emb, self.dim_k, bias=False)\n",
        "        self.proj_v = Linear(dim_emb, self.dim_v, bias=False)\n",
        "        self.proj_out = Linear(self.dim_v, self.dim_v, bias=False)\n",
        "\n",
        "        # Build the causal mask, masking upper triangular part of attention scores\n",
        "        self.register_buffer(\"causal_mask\", torch.triu(torch.ones(seq_len, seq_len), diagonal=1).bool())\n",
        "\n",
        "    def forward(self, x: Tensor, return_scores: bool = False) -> Tensor | Tuple[Tensor, Tensor]:\n",
        "        # projects input to Q, K, V spaces\n",
        "        q = self.proj_q(x)  # (bs, seq_len, dim_k)\n",
        "        k = self.proj_k(x)  # (bs, seq_len, dim_k)\n",
        "        v = self.proj_v(x)  # (bs, seq_len, dim_v)\n",
        "\n",
        "        # split projections between heads -> (bs, num_heads, seq_len, dim_k)\n",
        "        q = q.view(-1, self.seq_len, self.num_heads, self.dim_head).permute(0, 2, 1, 3)\n",
        "        k = k.view(-1, self.seq_len, self.num_heads, self.dim_head).permute(0, 2, 1, 3)\n",
        "        v = v.view(-1, self.seq_len, self.num_heads, self.dim_head).permute(0, 2, 1, 3)\n",
        "\n",
        "        # apply positional encoding to projections, for each heads\n",
        "        q = self.positional_encoding(q)  # (bs, num_heads, seq_len, dim_k)\n",
        "        k = self.positional_encoding(k)  # (bs, num_heads, seq_len, dim_k)\n",
        "\n",
        "        # Compute the correlation between a query q_i and all the keys, for every q_i\n",
        "        attn_scores = (q @ k.permute(0, 1, 3, 2)) * self.dim_k**-0.5  # (bs, num_heads, seq_len, seq_len)\n",
        "\n",
        "        # Fill the upper triangular part of the attention scores with -inf to inhibit them in the softmax\n",
        "        if self.causal:\n",
        "            attn_scores.masked_fill_(self.causal_mask[None, None, ...], -torch.inf)\n",
        "\n",
        "        # attention scores are used to build a weighted linear combination of values vectors\n",
        "        attn_scores = torch.softmax(attn_scores, dim=-1)  # (bs, num_heads, seq_len, seq_len)\n",
        "        out = attn_scores @ v  # (bs, num_heads, seq_len, dim_v)\n",
        "\n",
        "        # merge heads\n",
        "        out = out.permute(0, 2, 1, 3).contiguous().view(-1, self.seq_len, self.dim_v)  # (bs, seq_len, dim_v)\n",
        "\n",
        "        # projects to the output space\n",
        "        out = self.proj_out(out)  # (bs, seq_len, dim_v)\n",
        "\n",
        "        if return_scores:\n",
        "            return out, attn_scores\n",
        "        else:\n",
        "            return out\n",
        "\n",
        "\n",
        "class FeedForward(Sequential):\n",
        "    def __init__(self, dim_in: int, dim_hidden: int, bias: bool = False) -> None:\n",
        "        super().__init__(\n",
        "            Linear(dim_in, dim_hidden, bias=bias),\n",
        "            SwiGLU(dim_hidden),\n",
        "            Linear(dim_hidden, dim_in, bias=bias),\n",
        "        )\n",
        "\n",
        "\n",
        "class TransformerBlock(Module):\n",
        "    def __init__(\n",
        "        self,\n",
        "        seq_len: int,\n",
        "        dim_emb: int,\n",
        "        attn_num_heads: int,\n",
        "        ffn_hidden_dim: int,\n",
        "        ffn_bias: bool = False,\n",
        "        attn_causal: bool = True,\n",
        "    ) -> None:\n",
        "        super().__init__()\n",
        "\n",
        "        # Follows LLama 2 architecture:\n",
        "        # - positional encoding on every head of the multi-head attention query and keys projections\n",
        "        # - RMS pre-normalization instead of layer normalization\n",
        "        # - SwiGLU activation for the feedforward\n",
        "        self.norm_attn = RMSNorm(dim_emb)\n",
        "        self.multihead_attn = MultiHeadAttention(seq_len, attn_num_heads, dim_emb, causal=attn_causal)\n",
        "        self.norm_ffn = RMSNorm(dim_emb)\n",
        "        self.feed_forward = FeedForward(dim_emb, ffn_hidden_dim, bias=ffn_bias)\n",
        "\n",
        "    def forward(self, x: Tensor) -> Tensor:\n",
        "        x = x + self.multihead_attn(self.norm_attn(x))  # (bs, seq_len, dim_in)\n",
        "        x = x + self.feed_forward(self.norm_ffn(x))  # (bs, seq_len, dim_in)\n",
        "\n",
        "        return x  # (bs, seq_len, dim_in)"
      ],
      "metadata": {
        "id": "OPQWgsSaO9xt"
      },
      "execution_count": null,
      "outputs": []
    },
    {
      "cell_type": "code",
      "source": [
        "from pathlib import Path\n",
        "\n",
        "from sentencepiece import SentencePieceProcessor, SentencePieceTrainer\n",
        "from torch import IntTensor, Tensor\n",
        "\n",
        "__model_types = [\"unigram\", \"bpe\", \"word\", \"char\"]\n",
        "\n",
        "\n",
        "class Tokenizer:\n",
        "    def __init__(self, path: str = None) -> None:\n",
        "        self.sp = SentencePieceProcessor()\n",
        "        self.sp.Load(model_file=path)\n",
        "\n",
        "    @property\n",
        "    def vocab_size(self) -> int:\n",
        "        return self.sp.vocab_size()\n",
        "\n",
        "    @property\n",
        "    def bos_id(self) -> int:\n",
        "        return self.sp.bos_id()\n",
        "\n",
        "    @property\n",
        "    def eos_id(self) -> int:\n",
        "        return self.sp.eos_id()\n",
        "\n",
        "    @property\n",
        "    def pad_id(self) -> int:\n",
        "        return self.sp.pad_id()\n",
        "\n",
        "    @property\n",
        "    def unk_id(self) -> int:\n",
        "        return self.sp.unk_id()\n",
        "\n",
        "    def encode(\n",
        "        self,\n",
        "        input: str,\n",
        "        beg_of_string: bool = False,\n",
        "        end_of_string: bool = False,\n",
        "        pad_seq: bool = False,\n",
        "        seq_len: int = None,\n",
        "    ) -> Tensor:\n",
        "        out = self.sp.EncodeAsIds(input, add_bos=beg_of_string, add_eos=end_of_string)\n",
        "\n",
        "        if pad_seq and len(out) < seq_len:\n",
        "            out = [*[self.pad_id] * (seq_len - len(out)), *out]\n",
        "\n",
        "        return IntTensor(out)\n",
        "\n",
        "    def decode(self, input: Tensor) -> str:\n",
        "        out = \"\".join(self.sp.Decode(input.tolist()))\n",
        "\n",
        "        return out\n",
        "\n",
        "\n",
        "def train_tokenizer(\n",
        "    input_file: str,\n",
        "    vocab_size: int,\n",
        "    pad_id: int = 0,\n",
        "    unk_id: int = 1,\n",
        "    bod_id: int = 2,\n",
        "    eos_id: int = 3,\n",
        "    model_type: str = \"unigram\",\n",
        "    max_sample_size: int = 1_000_000,\n",
        ") -> None:\n",
        "    assert model_type in __model_types, f\"Got invalid model_type argument: {model_type}\"\n",
        "    SentencePieceTrainer.Train(\n",
        "        input=input_file,\n",
        "        vocab_size=vocab_size,\n",
        "        model_type=model_type,\n",
        "        model_prefix=Path(input_file).with_suffix(\"\"),\n",
        "        pad_id=pad_id,\n",
        "        unk_id=unk_id,\n",
        "        bos_id=bod_id,\n",
        "        eos_id=eos_id,\n",
        "        input_sentence_size=max_sample_size,\n",
        "    )"
      ],
      "metadata": {
        "id": "y0wWSCeMPEuB"
      },
      "execution_count": null,
      "outputs": []
    },
    {
      "cell_type": "code",
      "source": [
        "import torch\n",
        "import torch.nn.functional as F\n",
        "from torch import Tensor\n",
        "from torch.nn import Dropout, Embedding, Linear, Module, Sequential\n",
        "\n",
        "#from model.transformer import RMSNorm, TransformerBlock\n",
        "\n",
        "\n",
        "class LLM(Module):\n",
        "    def __init__(\n",
        "        self,\n",
        "        vocab_size: int,\n",
        "        context_size: int,\n",
        "        dim_emb: int,\n",
        "        num_layers: int,\n",
        "        attn_num_heads: int,\n",
        "        ffd_hidden_dim: int,\n",
        "        emb_dropout: float = 0.0,\n",
        "        ffd_bias: bool = False,\n",
        "    ) -> None:\n",
        "        super().__init__()\n",
        "\n",
        "        self.context_size = context_size\n",
        "        self.token_embedding = Embedding(vocab_size, dim_emb)\n",
        "        self.emb_dropout = Dropout(emb_dropout)\n",
        "        self.transformer = Sequential()\n",
        "\n",
        "        for _ in range(num_layers):\n",
        "            self.transformer.append(TransformerBlock(context_size, dim_emb, attn_num_heads, ffd_hidden_dim, ffd_bias))\n",
        "\n",
        "        self.norm = RMSNorm(dim_emb)\n",
        "        self.projection_head = Linear(dim_emb, vocab_size)\n",
        "\n",
        "    def forward(self, x: Tensor) -> Tensor:\n",
        "        x = self.token_embedding(x)  # (bs, seq_len, dim_emb)\n",
        "        x = self.emb_dropout(x)  # (bs, seq_len, dim_emb)\n",
        "        x = self.transformer(x)  # (bs, seq_len, dim_emb)\n",
        "        x = self.norm(x)  # (bs, seq_len, dim_emb)\n",
        "        x = self.projection_head(x)  # (bs, seq_len, vocab_size)\n",
        "\n",
        "        return x  # (bs, seq_len, vocab_size)\n",
        "\n",
        "    @torch.inference_mode()\n",
        "    def generate(self, inputs: Tensor, max_seq_len: int, temperature: float = 1.0, top_p: int = None) -> Tensor:\n",
        "        for _ in range(max_seq_len):\n",
        "            # make sure the sequence we're generating doesn't exceed model's sequence length\n",
        "            inputs_cond = inputs if inputs.size(1) <= self.context_size else inputs[:, -self.context_size :]\n",
        "\n",
        "            # get logits for the last sequence only, and rescale them to get a probability distribution over the vocabulary\n",
        "            logits = self(inputs_cond)[:, -1, :]  # (bs, vocab_size)\n",
        "\n",
        "            # TODO: Top-p sampling (nucleus)\n",
        "            probs = F.softmax(logits / temperature, dim=-1)  # (bs, vocab_size)\n",
        "\n",
        "            # sample the next token index\n",
        "            next_token = torch.multinomial(probs, num_samples=1)\n",
        "\n",
        "            # append to the sequence being generated\n",
        "            inputs = torch.cat((inputs, next_token), dim=-1)\n",
        "\n",
        "        return inputs"
      ],
      "metadata": {
        "id": "27XXYZtVPJ1f"
      },
      "execution_count": null,
      "outputs": []
    },
    {
      "cell_type": "code",
      "source": [
        "from dataclasses import dataclass\n",
        "\n",
        "import torch\n",
        "\n",
        "\n",
        "def get_device():\n",
        "    if torch.cuda.is_available():\n",
        "        device = torch.device(\"cuda\")\n",
        "    elif torch.backends.mps.is_available() and torch.backends.mps.is_built():\n",
        "        device = torch.device(\"mps\")\n",
        "    else:\n",
        "        device = torch.device(\"cpu\")\n",
        "\n",
        "    return device\n",
        "\n",
        "\n",
        "@dataclass\n",
        "class LLMConfig:\n",
        "    vocab_size: int = 1024\n",
        "    context_size: int = 128\n",
        "    dim_emb: int = 512\n",
        "    num_layers: int = 8\n",
        "    num_heads: int = 8\n",
        "    emb_dropout: float = 0.0\n",
        "    ffd_dim_hidden: int = 4 * 512\n",
        "    ffd_bias: bool = True\n",
        "\n",
        "\n",
        "@dataclass\n",
        "class TrainingConfig:\n",
        "    retrain_tokenizer: bool = False\n",
        "    device: torch.device = get_device()\n",
        "    batch_size: int = 64\n",
        "    learning_rate: float = 1e-4\n",
        "    weight_decay: float = 1e-2\n",
        "    max_steps: int = 1000\n",
        "    log_frequency: int = 10"
      ],
      "metadata": {
        "id": "L9zTKogEPZcY"
      },
      "execution_count": null,
      "outputs": []
    },
    {
      "cell_type": "code",
      "source": [
        "import torch\n",
        "from torch import Tensor\n",
        "\n",
        "#from model.tokenizer import Tokenizer\n",
        "\n",
        "\n",
        "class NextTokenPredictionDataset:\n",
        "    def __init__(self, input_file: str, context_size: int, tokenizer: Tokenizer) -> None:\n",
        "        super().__init__()\n",
        "\n",
        "        self.input_file = input_file\n",
        "        self.context_size = context_size\n",
        "\n",
        "        # load data in memory\n",
        "        with open(self.input_file) as f:\n",
        "            data = f.read()\n",
        "\n",
        "        self.data = tokenizer.encode(data)\n",
        "\n",
        "    def get_batch(self, batch_size: int) -> tuple[Tensor]:\n",
        "        # sample random starting index in the data and build a batch from there\n",
        "        indices = torch.randint(self.data.size(0) - self.context_size, (batch_size,))\n",
        "        inputs = torch.stack([self.data[i : i + self.context_size] for i in indices], dim=0)\n",
        "        labels = torch.stack([self.data[i + 1 : i + 1 + self.context_size] for i in indices], dim=0).long()\n",
        "\n",
        "        return inputs, labels"
      ],
      "metadata": {
        "id": "jKMJB1KUPq9P"
      },
      "execution_count": null,
      "outputs": []
    },
    {
      "cell_type": "code",
      "source": [
        "from collections import defaultdict\n",
        "\n",
        "import torch\n",
        "import torch.nn.functional as F\n",
        "from torch.nn import Module\n",
        "from torch.optim import Adam\n",
        "from torch.optim.lr_scheduler import CosineAnnealingLR\n",
        "from torch.utils.data import DataLoader\n",
        "\n",
        "#from helpers.dataset import NextTokenPredictionDataset\n",
        "\n",
        "\n",
        "def log(step, max_steps, lr, metrics, mode=\"train\"):\n",
        "    metrics_print = \" - \".join([f\"{m}: {v[-1]:.3f}\" for m, v in metrics.items()])\n",
        "\n",
        "    if mode == \"train\":\n",
        "        print(f\"Step {step + 1}/{max_steps} - LR:{lr:.4f} -\", metrics_print, end=\"\\r\")\n",
        "    if mode == \"eval\":\n",
        "        print(f\"\\n\\Step {step + 1}/{max_steps} -\", metrics_print)\n",
        "\n",
        "\n",
        "def train(\n",
        "    model: Module,\n",
        "    ds_train: NextTokenPredictionDataset,\n",
        "    device: torch.device,\n",
        "    batch_size: int,\n",
        "    lr: float,\n",
        "    max_steps: int,\n",
        "    weight_decay: float = 1e-2,\n",
        "    log_every: int = 10,\n",
        ") -> defaultdict:\n",
        "    print(f\"Training on {device}.\")\n",
        "\n",
        "    metrics_tracker = defaultdict(list)\n",
        "    model.to(device)\n",
        "    optimizer = Adam(model.parameters(), lr=10 * lr, weight_decay=weight_decay)\n",
        "    scheduler = CosineAnnealingLR(optimizer, T_max=max_steps, eta_min=lr)\n",
        "    model.train()\n",
        "\n",
        "    for step in range(max_steps):\n",
        "        optimizer.zero_grad(set_to_none=True)\n",
        "\n",
        "        inputs, labels = ds_train.get_batch(batch_size)\n",
        "        inputs, labels = inputs.to(device), labels.to(device)\n",
        "        logits = model(inputs)\n",
        "\n",
        "        loss = F.cross_entropy(logits.view(-1, logits.size(-1)), labels.view(-1), ignore_index=-1)\n",
        "        loss.backward()\n",
        "\n",
        "        optimizer.step()\n",
        "        scheduler.step()\n",
        "\n",
        "        metrics_tracker[\"train_loss\"].append(loss.detach().cpu().item())\n",
        "        if step % log_every == 0 or step == max_steps - 1:\n",
        "            log(step, max_steps, scheduler.get_last_lr()[-1], metrics_tracker)\n",
        "\n",
        "    return metrics_tracker\n",
        "\n",
        "\n",
        "@torch.inference_mode()\n",
        "def evaluate(model: Module, dl_val: DataLoader, device: torch.device) -> float:\n",
        "    model.eval()\n",
        "    running_loss = 0.0\n",
        "    num_steps = 0\n",
        "\n",
        "    for sequence, labels in dl_val:\n",
        "        sequence, labels = sequence.to(device), labels.to(device)\n",
        "        logits = model(sequence)\n",
        "        loss = F.cross_entropy(logits.view(-1, logits.size(-1)), labels.view(-1), ignore_index=-1)\n",
        "\n",
        "        running_loss += loss.cpu().item()\n",
        "        num_steps += 1\n",
        "\n",
        "    return running_loss / num_steps"
      ],
      "metadata": {
        "id": "4wkONSrtPyqf"
      },
      "execution_count": null,
      "outputs": []
    },
    {
      "cell_type": "code",
      "source": [
        "import sys\n",
        "\n",
        "sys.path.append(\"..\")\n",
        "\n",
        "from pathlib import Path\n",
        "import matplotlib.pyplot as plt\n",
        "import torch\n",
        "\n",
        "\n",
        "print(f\"pytorch version: {torch.__version__}\")"
      ],
      "metadata": {
        "colab": {
          "base_uri": "https://localhost:8080/"
        },
        "id": "jdMrN-x2P8Tc",
        "outputId": "1a9409c7-e6bf-49a2-f406-b4fcb0e128fc"
      },
      "execution_count": null,
      "outputs": [
        {
          "output_type": "stream",
          "name": "stdout",
          "text": [
            "pytorch version: 2.2.1+cu121\n"
          ]
        }
      ]
    },
    {
      "cell_type": "code",
      "source": [
        "llm_config = LLMConfig(\n",
        "    vocab_size=2_000,\n",
        "    context_size=64,\n",
        "    dim_emb=256,\n",
        "    num_layers=4,\n",
        "    num_heads=8,\n",
        "    emb_dropout=0.0,\n",
        "    ffd_dim_hidden=4 * 256,\n",
        "    ffd_bias=False,\n",
        ")\n",
        "\n",
        "train_config = TrainingConfig(\n",
        "    retrain_tokenizer=False,\n",
        "    device=get_device(),\n",
        "    batch_size=64,\n",
        "    learning_rate=3e-4,\n",
        "    weight_decay=1e-5,\n",
        "    max_steps=4_000,\n",
        "    log_frequency=1,\n",
        ")"
      ],
      "metadata": {
        "id": "T2HRifT1QECt"
      },
      "execution_count": null,
      "outputs": []
    },
    {
      "cell_type": "code",
      "source": [
        "#!wget https://raw.githubusercontent.com/karpathy/char-rnn/master/data/tinyshakespeare/input.txt\n",
        "input_file = \"input.txt\"\n",
        "output_file = Path(input_file).with_suffix(\".model\")\n",
        "\n",
        "if not output_file.exists() or train_config.retrain_tokenizer:\n",
        "    train_tokenizer(input_file, llm_config.vocab_size)\n",
        "\n",
        "tokenizer = Tokenizer(str(output_file))"
      ],
      "metadata": {
        "id": "Dgghh1cKQP9b"
      },
      "execution_count": null,
      "outputs": []
    },
    {
      "cell_type": "code",
      "source": [
        "sentence = (\n",
        "    \"The role of the tokenizer is to build a mapping between a sentences represented as a string and token indices\"\n",
        ")\n",
        "print(tokenizer.sp.EncodeAsPieces(sentence))\n",
        "\n",
        "assert tokenizer.decode(tokenizer.encode(sentence)) == sentence"
      ],
      "metadata": {
        "colab": {
          "base_uri": "https://localhost:8080/"
        },
        "id": "rUwQuP_yRt1x",
        "outputId": "5bdc8490-7d1a-470a-8a15-05805156b95d"
      },
      "execution_count": null,
      "outputs": [
        {
          "output_type": "stream",
          "name": "stdout",
          "text": [
            "['▁The', '▁', 'ro', 'le', '▁of', '▁the', '▁to', 'k', 'en', 'ize', 'r', '▁is', '▁to', '▁bu', 'il', 'd', '▁a', '▁m', 'app', 'ing', '▁between', '▁a', '▁sentence', 's', '▁re', 'p', 're', 's', 'ent', 'ed', '▁as', '▁a', '▁str', 'ing', '▁and', '▁to', 'k', 'en', '▁in', 'd', 'ice', 's']\n"
          ]
        }
      ]
    },
    {
      "cell_type": "code",
      "source": [
        "ds_train = NextTokenPredictionDataset(input_file, llm_config.context_size, tokenizer)\n",
        "\n",
        "X, y = ds_train.get_batch(batch_size=1)\n",
        "\n",
        "print(X.shape, y.shape)"
      ],
      "metadata": {
        "colab": {
          "base_uri": "https://localhost:8080/"
        },
        "id": "bYXmTxANRykT",
        "outputId": "97f3cdbd-5889-43d5-87b3-b9b07f06d89a"
      },
      "execution_count": null,
      "outputs": [
        {
          "output_type": "stream",
          "name": "stdout",
          "text": [
            "torch.Size([1, 64]) torch.Size([1, 64])\n"
          ]
        }
      ]
    },
    {
      "cell_type": "code",
      "source": [
        "model = LLM(\n",
        "    vocab_size=tokenizer.vocab_size,\n",
        "    context_size=llm_config.context_size,\n",
        "    dim_emb=llm_config.dim_emb,\n",
        "    num_layers=llm_config.num_layers,\n",
        "    attn_num_heads=llm_config.num_heads,\n",
        "    emb_dropout=llm_config.emb_dropout,\n",
        "    ffd_hidden_dim=llm_config.ffd_dim_hidden,\n",
        "    ffd_bias=llm_config.ffd_bias,\n",
        ")\n",
        "\n",
        "params_size = sum(p.nelement() * p.element_size() for p in model.parameters())\n",
        "buffer_size = sum(p.nelement() * p.element_size() for p in model.buffers())\n",
        "size = (params_size + buffer_size) / 1024**2\n",
        "\n",
        "print(f\"total params: {sum(p.numel() for p in model.parameters()):,d}\")\n",
        "print(f\"model size: {size:.3f}MB\")"
      ],
      "metadata": {
        "colab": {
          "base_uri": "https://localhost:8080/"
        },
        "id": "uChWJo6UR8LN",
        "outputId": "ee5b0c61-9743-4d86-c55a-9e43897706b6"
      },
      "execution_count": null,
      "outputs": [
        {
          "output_type": "stream",
          "name": "stdout",
          "text": [
            "total params: 12,570,832\n",
            "model size: 48.032MB\n"
          ]
        }
      ]
    },
    {
      "cell_type": "code",
      "source": [
        "loss_history = train(\n",
        "    model,\n",
        "    ds_train,\n",
        "    train_config.device,\n",
        "    batch_size=train_config.batch_size,\n",
        "    lr=train_config.learning_rate,\n",
        "    max_steps=train_config.max_steps,\n",
        "    weight_decay=train_config.weight_decay,\n",
        "    log_every=train_config.log_frequency,\n",
        ")"
      ],
      "metadata": {
        "colab": {
          "base_uri": "https://localhost:8080/"
        },
        "id": "Pv7tjJscSAXo",
        "outputId": "a21e990c-f6cf-4e50-b217-bf31b0c847c5"
      },
      "execution_count": null,
      "outputs": [
        {
          "output_type": "stream",
          "name": "stdout",
          "text": [
            "Training on cuda.\n"
          ]
        }
      ]
    },
    {
      "cell_type": "code",
      "source": [
        "fig, ax = plt.subplots(figsize=(12, 4))\n",
        "ax.plot(range(len(loss_history[\"train_loss\"])), loss_history[\"train_loss\"])\n",
        "ax.set_xlabel(\"step\")\n",
        "ax.set_ylabel(\"cross entropy loss\")\n",
        "ax.grid(axis=\"y\")"
      ],
      "metadata": {
        "colab": {
          "base_uri": "https://localhost:8080/",
          "height": 254
        },
        "id": "YG5WL2ohaQR3",
        "outputId": "8a969823-e1bf-4a68-9b7e-927d577c2c12"
      },
      "execution_count": null,
      "outputs": [
        {
          "output_type": "display_data",
          "data": {
            "text/plain": [
              "<Figure size 1200x400 with 1 Axes>"
            ],
            "image/png": "[encoded data removed]"
          },
          "metadata": {}
        }
      ]
    },
    {
      "cell_type": "code",
      "source": [
        "# empty prompt to generate random stuff\n",
        "prompt = torch.full((1, llm_config.context_size), tokenizer.pad_id, dtype=torch.int32).to(train_config.device)\n",
        "out = model.generate(prompt, max_seq_len=30)\n",
        "tokenizer.decode(out)"
      ],
      "metadata": {
        "colab": {
          "base_uri": "https://localhost:8080/",
          "height": 35
        },
        "id": "KCk2yTTLqwl3",
        "outputId": "a333efa2-b78b-49ae-ec11-c70df8837f56"
      },
      "execution_count": null,
      "outputs": [
        {
          "output_type": "execute_result",
          "data": {
            "text/plain": [
              "'. ⁇  Yet Tagore he laffirmed his knighthood-ahaji Redasi movement Chil'"
            ],
            "application/vnd.google.colaboratory.intrinsic+json": {
              "type": "string"
            }
          },
          "metadata": {},
          "execution_count": 29
        }
      ]
    },
    {
      "cell_type": "code",
      "source": [
        "# generate from a prompt\n",
        "prompt = (\n",
        "    tokenizer.encode(\n",
        "        \"Ravi's brother Hemendranath tutored and physically\",\n",
        "        beg_of_string=True,\n",
        "        pad_seq=True,\n",
        "        seq_len=llm_config.context_size,\n",
        "    )\n",
        "    .view(1, -1)\n",
        "    .to(train_config.device)\n",
        ")\n",
        "out = model.generate(prompt, max_seq_len=50)\n",
        "tokenizer.decode(out)"
      ],
      "metadata": {
        "colab": {
          "base_uri": "https://localhost:8080/",
          "height": 70
        },
        "id": "JAFP2ik9q7OR",
        "outputId": "2e9ca569-6a4f-49fe-9950-2804c6890a2b"
      },
      "execution_count": null,
      "outputs": [
        {
          "output_type": "execute_result",
          "data": {
            "text/plain": [
              "\"Ravi's brother Hemendranath tutored and physically conditioned him ⁇ by having him swim the Ganges or trek through hills, by gymnastics, and by practising judo and wrest\""
            ],
            "application/vnd.google.colaboratory.intrinsic+json": {
              "type": "string"
            }
          },
          "metadata": {},
          "execution_count": 36
        }
      ]
    }
  ]
}